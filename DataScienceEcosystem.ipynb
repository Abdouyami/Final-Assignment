{
 "cells": [
  {
   "cell_type": "markdown",
   "id": "781135b1-b8ea-4eb8-b76d-09558c597ba3",
   "metadata": {},
   "source": [
    "# Data Science Tools and Ecosystem"
   ]
  },
  {
   "cell_type": "markdown",
   "id": "320fe00a-e26d-4737-b22b-31acf0e00b27",
   "metadata": {},
   "source": [
    "## In this notebook, Data Science Tools and Ecosystem are summarized."
   ]
  },
  {
   "cell_type": "markdown",
   "id": "b9808bca-641c-4227-91c1-a1c1f068dc94",
   "metadata": {},
   "source": [
    "**Objectives:**\n",
    "- List popular languages for Data Science.\n",
    "- Describe commonly used libraries in Data Science.\n",
    "- Create and visualize tables in Markdown.\n",
    "- Create and evaluate simple arithmetic expressions.\n",
    "- Convert minutes to hours and display the results.\n"
   ]
  },
  {
   "cell_type": "markdown",
   "id": "b871ddb8-a563-410a-9ac4-499486606b7a",
   "metadata": {},
   "source": [
    "Some of the popular languages that Data Scientists use are:\n",
    "\n",
    "1. Python\n",
    "2. R\n",
    "3. SQL\n",
    "4. Julia"
   ]
  },
  {
   "cell_type": "markdown",
   "id": "95c6b79e-8f50-432c-a49e-cf792f169749",
   "metadata": {},
   "source": [
    "Some of the commonly used libraries used by Data Scientists include:\n",
    "\n",
    "1. NumPy\n",
    "2. Pandas\n",
    "3. Matplotlib\n",
    "4. Scikit-learn\n",
    "5. TensorFlow\n"
   ]
  },
  {
   "cell_type": "markdown",
   "id": "c5878a77-2da2-4ae7-97e7-2de4c5c44c18",
   "metadata": {},
   "source": [
    " Data Science Tools \n",
    ":-------------------:\n",
    " Jupyter Notebook  \n",
    " RStudio           \n",
    " Spyder            \n"
   ]
  },
  {
   "cell_type": "markdown",
   "id": "c0c71bb3-c88d-46d5-813c-1300112c18c7",
   "metadata": {},
   "source": [
    "### Below are a few examples of evaluating arithmetic expressions in Python"
   ]
  },
  {
   "cell_type": "code",
   "execution_count": 5,
   "id": "c6c930e9-57cd-41ae-86b5-1ed6cd1a3bef",
   "metadata": {},
   "outputs": [
    {
     "data": {
      "text/plain": [
       "17"
      ]
     },
     "execution_count": 5,
     "metadata": {},
     "output_type": "execute_result"
    }
   ],
   "source": [
    "#This a simple arithmetic expression to mutiply then add integers\n",
    "(3*4)+5"
   ]
  },
  {
   "cell_type": "code",
   "execution_count": 6,
   "id": "eaf29d0a-f21f-4db6-8095-8c73721c2e64",
   "metadata": {},
   "outputs": [
    {
     "data": {
      "text/plain": [
       "3.3333333333333335"
      ]
     },
     "execution_count": 6,
     "metadata": {},
     "output_type": "execute_result"
    }
   ],
   "source": [
    "#This will convert 200 minutes to hours by diving by 60\n",
    "200/60"
   ]
  },
  {
   "cell_type": "markdown",
   "id": "e4c2ecae-b3b7-42e3-91a8-320c97ffa4bb",
   "metadata": {},
   "source": [
    "## Author\n",
    "Belhamici Abderrahmane\n"
   ]
  },
  {
   "cell_type": "code",
   "execution_count": null,
   "id": "f7cdaac9-13ff-4a0b-bd89-ba7750c19582",
   "metadata": {},
   "outputs": [],
   "source": []
  }
 ],
 "metadata": {
  "kernelspec": {
   "display_name": "Python 3 (ipykernel)",
   "language": "python",
   "name": "python3"
  },
  "language_info": {
   "codemirror_mode": {
    "name": "ipython",
    "version": 3
   },
   "file_extension": ".py",
   "mimetype": "text/x-python",
   "name": "python",
   "nbconvert_exporter": "python",
   "pygments_lexer": "ipython3",
   "version": "3.12.4"
  }
 },
 "nbformat": 4,
 "nbformat_minor": 5
}
